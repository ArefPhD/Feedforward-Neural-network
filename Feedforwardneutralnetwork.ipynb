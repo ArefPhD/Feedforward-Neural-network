{
  "nbformat": 4,
  "nbformat_minor": 0,
  "metadata": {
    "colab": {
      "name": "Untitled136.ipynb",
      "private_outputs": true,
      "provenance": []
    },
    "kernelspec": {
      "name": "python3",
      "display_name": "Python 3"
    },
    "language_info": {
      "name": "python"
    }
  },
  "cells": [
    {
      "cell_type": "markdown",
      "source": [
        "# Getting data from the following URL, here we examined *Pima* Indians Diabetes Dataset "
      ],
      "metadata": {
        "id": "qp-WKy7M2uff"
      }
    },
    {
      "cell_type": "markdown",
      "source": [
        "https://machinelearningmastery.com/standard-machine-learning-datasets/"
      ],
      "metadata": {
        "id": "gdSYH5Z-2sk_"
      }
    },
    {
      "cell_type": "code",
      "source": [
        "import pandas as pd\n",
        "import numpy as np\n",
        "import matplotlib.pyplot as plt\n",
        "import seaborn as sns"
      ],
      "metadata": {
        "id": "3oP2ew_06p79"
      },
      "execution_count": null,
      "outputs": []
    },
    {
      "cell_type": "code",
      "source": [
        "from google.colab import files\n",
        "\n",
        "uploaded = files.upload()"
      ],
      "metadata": {
        "id": "wkF48h7w2rwP"
      },
      "execution_count": null,
      "outputs": []
    },
    {
      "cell_type": "code",
      "source": [
        "df = pd.read_csv('Pima Indians Diabetes Dataset.csv')\n",
        "df.head()"
      ],
      "metadata": {
        "id": "U_ie2RXZ6nak"
      },
      "execution_count": null,
      "outputs": []
    },
    {
      "cell_type": "code",
      "source": [
        "X=df[['Pregnancies',\t'Glucose',\t'BloodPressure',\t'SkinThickness',\t'Insulin',\t'BMI','DiabetesPedigreeFunction','Age']]"
      ],
      "metadata": {
        "id": "LnN_GpW46v2t"
      },
      "execution_count": null,
      "outputs": []
    },
    {
      "cell_type": "code",
      "source": [
        "y=df[['Outcome']]"
      ],
      "metadata": {
        "id": "MZ3abrIi7DFt"
      },
      "execution_count": null,
      "outputs": []
    },
    {
      "cell_type": "code",
      "source": [
        "from sklearn.model_selection import train_test_split\n",
        "\n",
        "X_train, X_test, y_train, y_test = train_test_split(X, y, test_size=0.2, random_state=1)"
      ],
      "metadata": {
        "id": "A4EvtOVV6i6N"
      },
      "execution_count": null,
      "outputs": []
    },
    {
      "cell_type": "code",
      "execution_count": null,
      "metadata": {
        "id": "M1EV7FeD2pU6"
      },
      "outputs": [],
      "source": [
        "from sklearn.neural_network import MLPClassifier\n",
        "snn_classifier = MLPClassifier()\n",
        "snn_classifier.fit(X_train, y_train)\n",
        "\n",
        "snn_predictions = snn_classifier.predict(X_test)\n",
        "            "
      ]
    },
    {
      "cell_type": "code",
      "source": [
        "from sklearn.metrics import accuracy_score\n",
        "\n",
        "\n",
        "\n",
        "# Compute test set accuracy\n",
        "acc = accuracy_score(y_test, snn_predictions)\n",
        "print(\"Test set accuracy: {:.2f}\".format(acc))"
      ],
      "metadata": {
        "id": "zdPtOD4Y7VOM"
      },
      "execution_count": null,
      "outputs": []
    }
  ]
}